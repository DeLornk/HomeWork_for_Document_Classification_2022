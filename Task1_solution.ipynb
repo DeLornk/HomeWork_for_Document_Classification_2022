{
  "nbformat": 4,
  "nbformat_minor": 0,
  "metadata": {
    "colab": {
      "provenance": [],
      "collapsed_sections": []
    },
    "kernelspec": {
      "name": "python3",
      "display_name": "Python 3"
    },
    "language_info": {
      "name": "python"
    }
  },
  "cells": [
    {
      "cell_type": "markdown",
      "metadata": {
        "id": "sAyim0cNiBsl"
      },
      "source": [
        "# Задание 1.1\n",
        "\n",
        "[Свертка списка](https://ru.wikipedia.org/wiki/%D0%A1%D0%B2%D1%91%D1%80%D1%82%D0%BA%D0%B0_%D1%81%D0%BF%D0%B8%D1%81%D0%BA%D0%B0) -  это обобщенная операция над списком, c помощью которой можно преобразовать список в единое значение. Например, рассмотрим реализации свертки слева и свертки справа (левоассоциативную свертку и правоассоциативную свертку):"
      ]
    },
    {
      "cell_type": "code",
      "execution_count": null,
      "metadata": {
        "collapsed": true,
        "jupyter": {
          "outputs_hidden": true
        },
        "id": "zgPZxdeNiBsp"
      },
      "outputs": [],
      "source": [
        "def foldl(f, x0, lst):\n",
        "    if not lst:\n",
        "        return x0\n",
        "    print(lst)        \n",
        "    return foldl(f, f(x0, lst[0]), lst[1:])\n",
        "\n",
        "def foldr(f, x0, lst):\n",
        "    if not lst:\n",
        "        return x0\n",
        "    print(lst)    \n",
        "    return f(lst[0], foldr(f, x0, lst[1:]))"
      ]
    },
    {
      "cell_type": "markdown",
      "source": [
        "left fold - объединения результата рекурсивного объединения всех элементов, кроме последнего, с последним элементом\n",
        "\n",
        "right fold - объединение первого элемента с результатом рекурсивного объединения остальных\n",
        "\n"
      ],
      "metadata": {
        "id": "eKjas3P4jM0U"
      }
    },
    {
      "cell_type": "code",
      "execution_count": null,
      "metadata": {
        "id": "bgivOfnKiBst",
        "outputId": "b8ff2075-6e6b-47ec-a765-4146f086e3e4",
        "colab": {
          "base_uri": "https://localhost:8080/"
        }
      },
      "outputs": [
        {
          "output_type": "stream",
          "name": "stdout",
          "text": [
            "[1, 2, 3]\n",
            "[2, 3]\n",
            "[3]\n",
            "6\n",
            "[1, 2, 3]\n",
            "[2, 3]\n",
            "[3]\n",
            "6\n"
          ]
        }
      ],
      "source": [
        "#сумма\n",
        "print(foldl(lambda x, y: x + y, 0, [1, 2, 3]))\n",
        "print(foldr(lambda x, y: x + y, 0, [1, 2, 3]))"
      ]
    },
    {
      "cell_type": "code",
      "execution_count": null,
      "metadata": {
        "id": "UUghpqqPiBsw",
        "outputId": "b8966f0a-3b19-42f1-a05b-3d40e6d54144",
        "colab": {
          "base_uri": "https://localhost:8080/"
        }
      },
      "outputs": [
        {
          "output_type": "stream",
          "name": "stdout",
          "text": [
            "123\n",
            "123\n"
          ]
        }
      ],
      "source": [
        "#конкатенация\n",
        "print(foldl(lambda x, y: '{}{}'.format(x, y), '', [1, 2, 3]))\n",
        "\n",
        "# для right будет обратное\n",
        "print(foldr(lambda x, y: '{}{}'.format(x, y), '', [1, 2, 3]))"
      ]
    },
    {
      "cell_type": "code",
      "execution_count": null,
      "metadata": {
        "id": "JvXADqfsiBsy",
        "outputId": "3062d7f4-54f7-4d20-db24-38a425d883a5",
        "colab": {
          "base_uri": "https://localhost:8080/"
        }
      },
      "outputs": [
        {
          "output_type": "execute_result",
          "data": {
            "text/plain": [
              "(0.16666666666666666, 1.5)"
            ]
          },
          "metadata": {},
          "execution_count": 28
        }
      ],
      "source": [
        "f = lambda x, y: x / y\n",
        "foldl(f, 1, [1, 2, 3]), \\\n",
        "foldr(f, 1, [1, 2, 3])"
      ]
    },
    {
      "cell_type": "markdown",
      "source": [
        "То есть как это работает"
      ],
      "metadata": {
        "id": "bZxnOVDqiO1W"
      }
    },
    {
      "cell_type": "markdown",
      "metadata": {
        "id": "1UyB7A9kiBsz"
      },
      "source": [
        "Задача: реализовать foldl через foldr и наоборот. Вместо многоточий нужно вставить выражения, которые бы привели к нужному результату. Модифицировать сам список нельзя. "
      ]
    },
    {
      "cell_type": "code",
      "execution_count": null,
      "metadata": {
        "collapsed": true,
        "jupyter": {
          "outputs_hidden": true
        },
        "id": "m0pdflS3iBs0"
      },
      "outputs": [],
      "source": [
        "def foldl2(f, x0, lst):\n",
        "    return foldr(..., ..., lst)(...)"
      ]
    },
    {
      "cell_type": "code",
      "execution_count": null,
      "metadata": {
        "collapsed": true,
        "jupyter": {
          "outputs_hidden": true
        },
        "id": "iETtFf_niBs2"
      },
      "outputs": [],
      "source": [
        "def foldr2(f, x0, lst):\n",
        "    return foldl(..., ..., lst)(...)"
      ]
    },
    {
      "cell_type": "markdown",
      "source": [
        "Список изменять никак нельзя."
      ],
      "metadata": {
        "id": "U60JsgGwuVlB"
      }
    },
    {
      "cell_type": "markdown",
      "source": [
        "**Решение**: Идей нет"
      ],
      "metadata": {
        "id": "RlBMxnM1XV-A"
      }
    },
    {
      "cell_type": "markdown",
      "metadata": {
        "id": "zU0GQvBliBs3"
      },
      "source": [
        "# Задание 1.2\n",
        "\n",
        "нужно написать функцию, которая принимает две строки и проверяет, входит ли хотя бы одна перестановка второй строки в первую. Например:\n",
        "\n",
        "> a = 'abcrotm'\n",
        "> \n",
        "> b = 'tro'\n",
        "\n",
        "функция def check_inv(a, b) вернет True, так как 'rot' содержится в 'abcrotm'. Нужно подумать как можно более оптимальный алгоритм и оценить его сложность. "
      ]
    },
    {
      "cell_type": "code",
      "execution_count": null,
      "metadata": {
        "collapsed": true,
        "jupyter": {
          "outputs_hidden": true
        },
        "id": "TpcnKvN0iBs5"
      },
      "outputs": [],
      "source": [
        "def check_inv(a, b):\n",
        "    \"\"\"\n",
        "    Проверяем, входит ли хотя бы одна перестановка строки b в строку a\n",
        "    \"\"\"\n",
        "    len_b = len(b)\n",
        "    len_a = len(a)\n",
        "\n",
        "    if len_a < len_b:\n",
        "        return False\n",
        "\n",
        "    set_b = set(b)\n",
        "    for i in range(len_a - len_b + 1):\n",
        "      set_a_i = set(a[i:i+len_b])\n",
        "      # print(f'{i}. set_a_i: {set_a_i}\\nset_b: {set_b}')\n",
        "      if set_a_i == set_b:\n",
        "        return True\n",
        "    \n",
        "    return False"
      ]
    },
    {
      "cell_type": "markdown",
      "source": [
        "\n",
        "$$\n",
        "(n- m + 1)\\cdot (m + m) = 2m(n - m + 1) = O(n^2)\n",
        "$$"
      ],
      "metadata": {
        "id": "Nu0kmRWqmS5H"
      }
    },
    {
      "cell_type": "code",
      "source": [
        "s1 = 'abcrotm'\n",
        "s2 = 'tro'\n",
        "\n",
        "check_inv(s1, s2)"
      ],
      "metadata": {
        "colab": {
          "base_uri": "https://localhost:8080/"
        },
        "id": "MfJ6Mxplu8XH",
        "outputId": "c0562c3c-ad34-4be0-9c26-e0350f729840"
      },
      "execution_count": null,
      "outputs": [
        {
          "output_type": "execute_result",
          "data": {
            "text/plain": [
              "True"
            ]
          },
          "metadata": {},
          "execution_count": 22
        }
      ]
    },
    {
      "cell_type": "markdown",
      "metadata": {
        "id": "23Iplk6AiBs7"
      },
      "source": [
        "# Задание 1.3\n",
        "\n",
        "Реализовать бинарное дерево (класс Tree), в нём методы __repr__, __str__, __iter__ (итерация только по листьям)."
      ]
    },
    {
      "cell_type": "code",
      "source": [
        "class Tree:\n",
        "    def __init__(self, value=None, left=None, right=None):\n",
        "        self.left = left\n",
        "        self.right = right\n",
        "        self.value = value\n",
        "        self.leaf = False\n",
        "        self.index = -1\n",
        "        \n",
        "    def __iter__(self):\n",
        "        self.leaf = (self.left is None) and (self.right is None)\n",
        "        \n",
        "        # self.index = -1\n",
        "        return self\n",
        "    \n",
        "    def __next__(self):\n",
        "        self.index += 1\n",
        "        #     # print('Зашли')\n",
        "        #     return self.value\n",
        "        if self.leaf:\n",
        "            return self.value\n",
        "        if self.index == 0:\n",
        "            # print(self.left)\n",
        "            if self.left is not None:\n",
        "                it = iter(self.left)\n",
        "                return next(it)\n",
        "\n",
        "        elif self.index == 1:\n",
        "            # print(self.right)\n",
        "            if self.right is not None:\n",
        "                it = iter(self.right)\n",
        "                return next(it)\n",
        "\n",
        "        else:\n",
        "            raise StopIteration\n",
        "    \n",
        "    def __str__(self):\n",
        "        \"\"\"\n",
        "        Отображения информации об объекте класса для пользователей\n",
        "        \"\"\"\n",
        "        return f'{self.value}'\n",
        "    def __repr__(self):\n",
        "        \"\"\"\n",
        "        Отображения информации об объекте класса в режиме отладки\n",
        "        \"\"\"\n",
        "        return f\"\"\"\n",
        "        root: {self.value}\\n\n",
        "        left child: {self.left}\\n\n",
        "        right child: {self.right}\n",
        "        \"\"\"\n",
        "\n",
        "tree = Tree(0, Tree(1, Tree(3), Tree(4)),                             \n",
        "               Tree(2))\n",
        "\n",
        "print(list(tree))"
      ],
      "metadata": {
        "colab": {
          "base_uri": "https://localhost:8080/"
        },
        "id": "wvgD4H0VLVT0",
        "outputId": "9167d009-ee2c-4c77-aaa7-ac8cf38559be"
      },
      "execution_count": 5,
      "outputs": [
        {
          "output_type": "stream",
          "name": "stdout",
          "text": [
            "[]\n"
          ]
        }
      ]
    },
    {
      "cell_type": "code",
      "source": [
        "class Tree:\n",
        "    def __init__(self, value=None, left=None, right=None):\n",
        "        self.left = left\n",
        "        self.right = right\n",
        "        self.value = value\n",
        "        self.leaf = False\n",
        "        self.index = 0\n",
        "        \n",
        "    def __iter__(self):\n",
        "        self.leaf = (self.left is None) and (self.right is None)\n",
        "        \n",
        "        # self.index = -1\n",
        "        return self\n",
        "    \n",
        "    def __next__(self):\n",
        "        # self.index += 1\n",
        "        #     # print('Зашли')\n",
        "        #     return self.value\n",
        "        if self.leaf:\n",
        "            return self.value\n",
        "        if self.index == 0:\n",
        "            # print(self.left)\n",
        "            if self.left is not None:\n",
        "                if self.left.left is None and self.left.right is None:\n",
        "                    self.index += 1\n",
        "                it = iter(self.left)\n",
        "                return next(it)\n",
        "\n",
        "        elif self.index == 1:\n",
        "            # print(self.right)\n",
        "            if self.right is not None:\n",
        "                if self.left.left is None and self.left.right is None:\n",
        "                    self.index += 1\n",
        "                it = iter(self.right)\n",
        "                return next(it)\n",
        "\n",
        "        else:\n",
        "            raise StopIteration\n",
        "    \n",
        "    def __str__(self):\n",
        "        \"\"\"\n",
        "        Отображения информации об объекте класса для пользователей\n",
        "        \"\"\"\n",
        "        return f'{self.value}'\n",
        "    def __repr__(self):\n",
        "        \"\"\"\n",
        "        Отображения информации об объекте класса в режиме отладки\n",
        "        \"\"\"\n",
        "        return f\"\"\"\n",
        "        root: {self.value}\\n\n",
        "        left child: {self.left}\\n\n",
        "        right child: {self.right}\n",
        "        \"\"\"\n",
        "\n",
        "tree = Tree(0, Tree(1, Tree(3), Tree(4)),                             \n",
        "               Tree(2))\n",
        "\n",
        "print(list(tree))"
      ],
      "metadata": {
        "colab": {
          "base_uri": "https://localhost:8080/"
        },
        "id": "ZcKuxOdvXn7t",
        "outputId": "098947c8-572b-4ed5-ea23-804b42c40255"
      },
      "execution_count": 6,
      "outputs": [
        {
          "output_type": "stream",
          "name": "stdout",
          "text": [
            "[3, 4]\n"
          ]
        }
      ]
    },
    {
      "cell_type": "markdown",
      "metadata": {
        "id": "21bGxRALiBs_"
      },
      "source": [
        "# Задание 1.4\n",
        "\n",
        "Реализовать простейший калькулятор математических выражений:\n",
        "- только целые числа\n",
        "- **+**, **\\-**, **\\***, **\\**\n",
        "- скобки\n",
        "\n",
        "**Можно использовать регулярные выражения**"
      ]
    },
    {
      "cell_type": "code",
      "execution_count": null,
      "metadata": {
        "id": "IRk5RwbbiBtA",
        "colab": {
          "base_uri": "https://localhost:8080/"
        },
        "outputId": "1fb86241-7955-4027-e2a9-0eb2279ea64d"
      },
      "outputs": [
        {
          "output_type": "stream",
          "name": "stdout",
          "text": [
            "Test 1: True\n",
            "Test 2: True\n",
            "Test 3: True\n",
            "Test 3: True\n",
            "Test 3: True\n",
            "Test 3: True\n"
          ]
        }
      ],
      "source": [
        "import re\n",
        "\n",
        "def calc(expr):\n",
        "  \"\"\"\n",
        "  Простейший калькулятор математических выражений. Доступные операции:\n",
        "  * Сложение \n",
        "  * Вычитание\n",
        "  * Умножение\n",
        "  * Деление\n",
        "\n",
        "  Пример:\n",
        "\n",
        "  * input: '2 * (15 - 3 * 4) - 2'\n",
        "  * output: 4\n",
        "  \"\"\"\n",
        "  \n",
        "  # находим все скобки\n",
        "  for i in re.finditer(r\"\\([^)]*\\)\", expr):\n",
        "    # print(f'В [{i.start()},{i.end()}]: {i[0]}')\n",
        "    expr = expr.replace(i[0], str(calc(i[0][1:-1])))\n",
        "\n",
        "  # print(f'Теперь мы без скобок {expr}')\n",
        "  while True:\n",
        "    match = re.search(fr'([-+]?\\d+ \\* [-+]?\\d+)|([-+]?\\d+ \\/ [-+]?\\d+)', expr)\n",
        "    if not match:\n",
        "      break\n",
        "    \n",
        "    if ' * ' in match[0]:\n",
        "      s = match[0].split(' * ')\n",
        "      # print(f'Умножаем {s[0]} на {s[1]}')\n",
        "      expr = expr.replace(match[0], str(int(s[0]) * int(s[1])))\n",
        "    else:\n",
        "      s = match[0].split(' / ')\n",
        "      # print(f'Делим {s[0]} на {s[1]}')\n",
        "      expr = expr.replace(match[0], str(int(s[0]) / int(s[1])))\n",
        "\n",
        "  # [-+]?\\d+\n",
        "  while True:\n",
        "    # match = re.search(r'([-+]?\\d+ \\- [-+]?\\d+)|([-+]?\\d+ \\+ [-+]?\\d+)', expr)\n",
        "    match = re.search(fr'([-+]?\\d+ \\- [-+]?\\d+)|([-+]?\\d+ \\+ [-+]?\\d+)', expr)\n",
        "    if not match:\n",
        "      break\n",
        "    if ' - ' in match[0]:\n",
        "      s = match[0].split(' - ')\n",
        "      # print(f'Вычитаем {s[1]} из {s[0]}')\n",
        "      expr = expr.replace(match[0], str(int(s[0]) - int(s[1])))\n",
        "    else:\n",
        "      s = match[0].split(' + ')\n",
        "      # print(f'Складываем {s[0]} с {s[1]}')\n",
        "      expr = expr.replace(match[0], str(int(s[0]) + int(s[1])))\n",
        "\n",
        "  return int(expr)\n",
        "\n",
        "\n",
        "print(f\"Test 1: {calc('2 * (15 - 3 * 4) - 2') == 4}\")\n",
        "print(f\"Test 2: {calc('2 * (-15 - 3 * 4) - 2') == -56}\")\n",
        "print(f\"Test 3: {calc('-1 - 2 - 3 - 4 - 5') == -15}\")\n",
        "print(f\"Test 3: {calc('+1 - 2 - 3 - 4 - 5')== -13}\")\n",
        "print(f\"Test 3: {calc('1 * 2 * 3 * 4 * 5')== 120}\")\n",
        "print(f\"Test 3: {calc('1 * 2 * 3 * -4 * 5')== -120}\")"
      ]
    }
  ]
}