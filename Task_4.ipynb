{
  "cells": [
    {
      "cell_type": "markdown",
      "metadata": {
        "id": "5Fcpej5S9wXy"
      },
      "source": [
        "# Задание 3. Линейная регрессия"
      ]
    },
    {
      "cell_type": "code",
      "execution_count": null,
      "metadata": {
        "colab": {
          "base_uri": "https://localhost:8080/"
        },
        "id": "4TJIVqmR9wYD",
        "outputId": "4672bb9e-88ee-412c-fe66-a47c36ad63d8"
      },
      "outputs": [
        {
          "output_type": "stream",
          "name": "stdout",
          "text": [
            "fatal: destination path 'master' already exists and is not an empty directory.\n"
          ]
        }
      ],
      "source": [
        "!git clone https://bitbucket.org/alms/classification-2022/src/master/"
      ]
    },
    {
      "cell_type": "markdown",
      "metadata": {
        "id": "erMtMe0h9wX9"
      },
      "source": [
        "Данные содержатся в файле `data/lin_reg.txt`. Прочитать их можно следующим так:"
      ]
    },
    {
      "cell_type": "code",
      "execution_count": null,
      "metadata": {
        "id": "Etsks7BS9wX_"
      },
      "outputs": [],
      "source": [
        "import numpy as np\n",
        "D = np.loadtxt('/content/master/data/lin_reg.txt', delimiter=',')\n",
        "X = D[:, :-1]\n",
        "Y = D[:, -1]"
      ]
    },
    {
      "cell_type": "markdown",
      "metadata": {
        "id": "UwIQ_3eX9wYC"
      },
      "source": [
        "При выполнении заданий **нельзя** пользоваться `scikit-learn` и т.п., только `NumPy`/`JAX`/`TF`/`PyTorch` и `matplotlib`/`seaborn`/`plotly`/etc.\n",
        "\n",
        "1. Нарисуйте график среднеквадратичной ошибки в зависимости от параметра регуляризации $\\alpha$, используя полные данные для обучения и для тестирования. "
      ]
    },
    {
      "cell_type": "code",
      "source": [
        "import numpy as np\n",
        "import matplotlib.pyplot as plt"
      ],
      "metadata": {
        "id": "LoHtnoIw-PNY"
      },
      "execution_count": null,
      "outputs": []
    },
    {
      "cell_type": "code",
      "source": [
        "Y = np.expand_dims(Y, axis=0).T\n",
        "\n",
        "l = X.shape[0]\n",
        "X = np.hstack((np.ones(shape=(l, 1)), X))\n",
        "\n",
        "print(f\"Y shape: {Y.shape}\")\n",
        "print(f\"X shape: {X.shape}\")"
      ],
      "metadata": {
        "colab": {
          "base_uri": "https://localhost:8080/"
        },
        "id": "UUndkrLU-3A_",
        "outputId": "1d1de714-0b18-4c7a-d366-01281c18c375"
      },
      "execution_count": null,
      "outputs": [
        {
          "output_type": "stream",
          "name": "stdout",
          "text": [
            "Y shape: (1000, 1)\n",
            "X shape: (1000, 5)\n"
          ]
        }
      ]
    },
    {
      "cell_type": "code",
      "source": [
        "import torch\n",
        "\n",
        "class linearRegression(torch.nn.Module):\n",
        "  def __init__(self, inputSize, outputSize):\n",
        "    super(linearRegression, self).__init__()\n",
        "    self.linear = torch.nn.Linear(inputSize, outputSize, bias=False)\n",
        "\n",
        "  def forward(self, x):\n",
        "    out = self.linear(x)\n",
        "    # print(f'Выход модели: {out}')\n",
        "    return out\n"
      ],
      "metadata": {
        "id": "P-reTGlOEdk-"
      },
      "execution_count": null,
      "outputs": []
    },
    {
      "cell_type": "code",
      "source": [
        "def train(model, x_train, y_train, lr=0.01, weight_decay=0.5, epochs=100, print_inf = False):\n",
        "  x_train = torch.from_numpy(x_train).float()\n",
        "  y_train = torch.from_numpy(y_train).float()\n",
        "\n",
        "  # print(f'x_train = {x_train},\\ny_train = {y_train}')\n",
        "\n",
        "  if torch.cuda.is_available():\n",
        "    device = 'cuda'\n",
        "    x_train = x_train.to(device)\n",
        "    y_train = x_train.to(device)\n",
        "    model.cuda()\n",
        "\n",
        "  criterion = torch.nn.MSELoss()\n",
        "  optimizer = torch.optim.SGD(model.parameters(), lr=lr, weight_decay=weight_decay)\n",
        "\n",
        "  for epoch in range(epochs):\n",
        "\n",
        "    optimizer.zero_grad()\n",
        "\n",
        "    outputs = model(x_train)\n",
        "\n",
        "    loss = criterion(outputs, y_train)\n",
        "\n",
        "    loss.backward()\n",
        "\n",
        "    optimizer.step()\n",
        "\n",
        "    if print_inf:\n",
        "      print(f'epoch {epoch}, loss {loss}')\n",
        "      print(f'Веса модели: {model.linear.weight}\\n')\n",
        "\n",
        "  # возвращаем последний loss\n",
        "  return loss.item()"
      ],
      "metadata": {
        "id": "s0SIdhc4D8Le"
      },
      "execution_count": null,
      "outputs": []
    },
    {
      "cell_type": "code",
      "source": [
        "torch.manual_seed(42)\n",
        "\n",
        "inputDim = X.shape[1]\n",
        "outputDim = Y.shape[1]\n",
        "\n",
        "print(f'Размер входа модели: {inputDim}\\nРазмер выхода: {outputDim}\\n')\n",
        "\n",
        "losses = []\n",
        "\n",
        "for wd in range(0, 101):\n",
        "\n",
        "  model = linearRegression(inputDim, outputDim)\n",
        "\n",
        "  model = model.float()\n",
        "\n",
        "  losses.append(train(model, X, Y, weight_decay = wd, lr=0.0001,  epochs=1000))\n",
        "  if wd + 1 % 10 == 0:\n",
        "    print(f'{wd}/100')"
      ],
      "metadata": {
        "colab": {
          "base_uri": "https://localhost:8080/"
        },
        "id": "bS1D0AJW6Wv4",
        "outputId": "2bd165c9-3899-48b1-be8c-8ed0e7316ab3"
      },
      "execution_count": null,
      "outputs": [
        {
          "output_type": "stream",
          "name": "stdout",
          "text": [
            "Размер входа модели: 5\n",
            "Размер выхода: 1\n",
            "\n",
            "1/100\n",
            "2/100\n",
            "3/100\n",
            "4/100\n",
            "5/100\n",
            "6/100\n",
            "7/100\n",
            "8/100\n",
            "9/100\n",
            "10/100\n",
            "11/100\n",
            "12/100\n",
            "13/100\n",
            "14/100\n",
            "15/100\n",
            "16/100\n",
            "17/100\n",
            "18/100\n",
            "19/100\n",
            "20/100\n",
            "21/100\n",
            "22/100\n",
            "23/100\n",
            "24/100\n",
            "25/100\n",
            "26/100\n",
            "27/100\n",
            "28/100\n",
            "29/100\n",
            "30/100\n",
            "31/100\n",
            "32/100\n",
            "33/100\n",
            "34/100\n",
            "35/100\n",
            "36/100\n",
            "37/100\n",
            "38/100\n",
            "39/100\n",
            "40/100\n",
            "41/100\n",
            "42/100\n",
            "43/100\n",
            "44/100\n",
            "45/100\n",
            "46/100\n",
            "47/100\n",
            "48/100\n",
            "49/100\n",
            "50/100\n",
            "51/100\n",
            "52/100\n",
            "53/100\n",
            "54/100\n",
            "55/100\n",
            "56/100\n",
            "57/100\n",
            "58/100\n",
            "59/100\n",
            "60/100\n",
            "61/100\n",
            "62/100\n",
            "63/100\n",
            "64/100\n",
            "65/100\n",
            "66/100\n",
            "67/100\n",
            "68/100\n",
            "69/100\n",
            "70/100\n",
            "71/100\n",
            "72/100\n",
            "73/100\n",
            "74/100\n",
            "75/100\n",
            "76/100\n",
            "77/100\n",
            "78/100\n",
            "79/100\n",
            "80/100\n",
            "81/100\n",
            "82/100\n",
            "83/100\n",
            "84/100\n",
            "85/100\n",
            "86/100\n",
            "87/100\n",
            "88/100\n",
            "89/100\n",
            "90/100\n",
            "91/100\n",
            "92/100\n",
            "93/100\n",
            "94/100\n",
            "95/100\n",
            "96/100\n",
            "97/100\n",
            "98/100\n",
            "99/100\n",
            "100/100\n",
            "101/100\n"
          ]
        }
      ]
    },
    {
      "cell_type": "code",
      "source": [
        "import matplotlib.pyplot as plt\n",
        "\n",
        "plt.plot(losses)"
      ],
      "metadata": {
        "colab": {
          "base_uri": "https://localhost:8080/",
          "height": 282
        },
        "id": "IKuZST7cydzM",
        "outputId": "3a588949-ecb7-4493-ab87-a686272595da"
      },
      "execution_count": null,
      "outputs": [
        {
          "output_type": "execute_result",
          "data": {
            "text/plain": [
              "[<matplotlib.lines.Line2D at 0x7f4039d8f9a0>]"
            ]
          },
          "metadata": {},
          "execution_count": 81
        },
        {
          "output_type": "display_data",
          "data": {
            "text/plain": [
              "<Figure size 432x288 with 1 Axes>"
            ],
            "image/png": "[encoded data removed]"
          },
          "metadata": {
            "needs_background": "light"
          }
        }
      ]
    },
    {
      "cell_type": "markdown",
      "source": [
        "2. Подготовьте исходные данные для 5 fold CV.\n"
      ],
      "metadata": {
        "id": "tzksVIy927rU"
      }
    },
    {
      "cell_type": "code",
      "source": [
        "def shuffle_two_arrays(a, b):\n",
        "  assert len(a) == len(b)\n",
        "  p = np.random.permutation(len(a))\n",
        "  return a[p], b[p]\n",
        "\n",
        "def kfold(a, b, k=5):\n",
        "  assert len(a) == len(b)\n",
        "  a, b = shuffle_two_arrays(a, b)\n",
        "  n = len(a)\n",
        "  size = n // k\n",
        "\n",
        "  data = [(a[size * i:size * (i + 1)], b[size * i:size * (i + 1)]) for i in range(k - 1)]\n",
        "  data.append((a[size * (k - 1):], b[size * (k-1):]))\n",
        "\n",
        "  return data"
      ],
      "metadata": {
        "id": "cfDBG8Om8KBY"
      },
      "execution_count": null,
      "outputs": []
    },
    {
      "cell_type": "code",
      "source": [
        "data = kfold(X, Y, k=5)"
      ],
      "metadata": {
        "id": "yThkoAD9JnOs"
      },
      "execution_count": null,
      "outputs": []
    },
    {
      "cell_type": "markdown",
      "source": [
        "3. С помощью CV найдите оптимальное значение $\\alpha$ на какой-нибудь сетке значений."
      ],
      "metadata": {
        "id": "uXVOCKAV29D6"
      }
    },
    {
      "cell_type": "code",
      "source": [
        "torch.manual_seed(42)\n",
        "\n",
        "loss = torch.nn.MSELoss()\n",
        "\n",
        "inputDim = X.shape[1]\n",
        "outputDim = Y.shape[1]\n",
        "\n",
        "print(f'Размер входа модели: {inputDim}\\nРазмер выхода: {outputDim}\\n')\n",
        "\n",
        "k_losses = []\n",
        "\n",
        "for i in range(len(data)):\n",
        "  print(f'Fold {i + 1}\\n')\n",
        "  X_test, Y_test = data[i]\n",
        "  X_train, Y_train = [], []\n",
        "\n",
        "  X_test = torch.from_numpy(X_test).float()\n",
        "  Y_test = torch.from_numpy(Y_test).float()\n",
        "\n",
        "  for j in range(len(data)):\n",
        "    if j == i:\n",
        "      continue\n",
        "    else:\n",
        "      X_train = np.concatenate((X, data[j][0]), axis=0)\n",
        "      Y_train = np.concatenate((Y, data[j][1]), axis=0)\n",
        "\n",
        "  losses = []\n",
        "  train_losses = []\n",
        "\n",
        "  for wd in range(0, 101):\n",
        "    model = linearRegression(inputDim, outputDim)\n",
        "    model = model.float()\n",
        "    train_loss = train(model, X_train, Y_train, weight_decay = wd, lr=0.0001,  epochs=1000)\n",
        "    with torch.inference_mode(): \n",
        "      Y_preds = model(X_test)\n",
        "    losses.append(loss(Y_preds, Y_test).item()) \n",
        "    train_losses.append(train_loss)\n",
        "\n",
        "    if wd % 10 == 0:\n",
        "      print(f'{wd}/100')\n",
        "  k_losses.append(losses)\n",
        "  print()\n",
        "\n",
        "\n",
        "mean_losses = np.array(k_losses[0])\n",
        "for i in range(1, len(k_losses)):\n",
        "  mean_losses += np.array(k_losses[i])\n",
        "\n",
        "mean_losses /= 5\n",
        "\n",
        "best_wd = np.argmin(mean_losses)\n",
        "print(f'best alpha: {best_wd}\\nmean loss: {mean_losses[best_wd]}')"
      ],
      "metadata": {
        "colab": {
          "base_uri": "https://localhost:8080/"
        },
        "id": "gZy3pC2CPHZ_",
        "outputId": "f2b02266-84c5-4ef6-c0df-f02b25bcf8ac"
      },
      "execution_count": null,
      "outputs": [
        {
          "output_type": "stream",
          "name": "stdout",
          "text": [
            "Размер входа модели: 5\n",
            "Размер выхода: 1\n",
            "\n",
            "Fold 1\n",
            "\n",
            "0/100\n",
            "10/100\n",
            "20/100\n",
            "30/100\n",
            "40/100\n",
            "50/100\n",
            "60/100\n",
            "70/100\n",
            "80/100\n",
            "90/100\n",
            "100/100\n",
            "\n",
            "Fold 2\n",
            "\n",
            "0/100\n",
            "10/100\n",
            "20/100\n",
            "30/100\n",
            "40/100\n",
            "50/100\n",
            "60/100\n",
            "70/100\n",
            "80/100\n",
            "90/100\n",
            "100/100\n",
            "\n",
            "Fold 3\n",
            "\n",
            "0/100\n",
            "10/100\n",
            "20/100\n",
            "30/100\n",
            "40/100\n",
            "50/100\n",
            "60/100\n",
            "70/100\n",
            "80/100\n",
            "90/100\n",
            "100/100\n",
            "\n",
            "Fold 4\n",
            "\n",
            "0/100\n",
            "10/100\n",
            "20/100\n",
            "30/100\n",
            "40/100\n",
            "50/100\n",
            "60/100\n",
            "70/100\n",
            "80/100\n",
            "90/100\n",
            "100/100\n",
            "\n",
            "Fold 5\n",
            "\n",
            "0/100\n",
            "10/100\n",
            "20/100\n",
            "30/100\n",
            "40/100\n",
            "50/100\n",
            "60/100\n",
            "70/100\n",
            "80/100\n",
            "90/100\n",
            "100/100\n",
            "\n",
            "best alpha: 0\n",
            "mean loss: 98.02630767822265\n"
          ]
        }
      ]
    },
    {
      "cell_type": "markdown",
      "source": [
        "4. Постройте валидационную кривую. "
      ],
      "metadata": {
        "id": "jtYV9iMm29dK"
      }
    },
    {
      "cell_type": "code",
      "source": [
        "import matplotlib.pyplot as plt\n",
        "\n",
        "plt.plot(mean_losses)"
      ],
      "metadata": {
        "colab": {
          "base_uri": "https://localhost:8080/",
          "height": 282
        },
        "id": "rmSWJUiVa61-",
        "outputId": "c6e3bca6-2f9f-4bd1-e565-9670bac4756d"
      },
      "execution_count": null,
      "outputs": [
        {
          "output_type": "execute_result",
          "data": {
            "text/plain": [
              "[<matplotlib.lines.Line2D at 0x7f4039d1ee20>]"
            ]
          },
          "metadata": {},
          "execution_count": 202
        },
        {
          "output_type": "display_data",
          "data": {
            "text/plain": [
              "<Figure size 432x288 with 1 Axes>"
            ],
            "image/png": "[encoded data removed]"
          },
          "metadata": {
            "needs_background": "light"
          }
        }
      ]
    },
    {
      "cell_type": "markdown",
      "source": [
        "5. Постройте кривую обучения."
      ],
      "metadata": {
        "id": "LRkQZZH32_ra"
      }
    },
    {
      "cell_type": "code",
      "source": [
        "import matplotlib.pyplot as plt\n",
        "\n",
        "plt.plot(train_losses)"
      ],
      "metadata": {
        "colab": {
          "base_uri": "https://localhost:8080/",
          "height": 282
        },
        "id": "JI54Gkvza7VH",
        "outputId": "42b973db-895b-4921-a24a-e2342bf657ca"
      },
      "execution_count": null,
      "outputs": [
        {
          "output_type": "execute_result",
          "data": {
            "text/plain": [
              "[<matplotlib.lines.Line2D at 0x7f4039cebc70>]"
            ]
          },
          "metadata": {},
          "execution_count": 203
        },
        {
          "output_type": "display_data",
          "data": {
            "text/plain": [
              "<Figure size 432x288 with 1 Axes>"
            ],
            "image/png": "[encoded data removed]"
          },
          "metadata": {
            "needs_background": "light"
          }
        }
      ]
    }
  ],
  "metadata": {
    "kernelspec": {
      "display_name": "Python 3.10.6 64-bit",
      "language": "python",
      "name": "python3"
    },
    "language_info": {
      "codemirror_mode": {
        "name": "ipython",
        "version": 3
      },
      "file_extension": ".py",
      "mimetype": "text/x-python",
      "name": "python",
      "nbconvert_exporter": "python",
      "pygments_lexer": "ipython3",
      "version": "3.10.6"
    },
    "vscode": {
      "interpreter": {
        "hash": "916dbcbb3f70747c44a77c7bcd40155683ae19c65e1c03b4aa3499c5328201f1"
      }
    },
    "colab": {
      "provenance": []
    }
  },
  "nbformat": 4,
  "nbformat_minor": 0
}