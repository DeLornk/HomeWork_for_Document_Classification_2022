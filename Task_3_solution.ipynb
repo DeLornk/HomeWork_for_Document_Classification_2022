{
  "cells": [
    {
      "cell_type": "code",
      "source": [
        "!git clone https://bitbucket.org/alms/classification-2022/src/master/"
      ],
      "metadata": {
        "colab": {
          "base_uri": "https://localhost:8080/"
        },
        "id": "f96aX41X4GAn",
        "outputId": "2008d8a3-8ec6-4480-d421-6f00cbc0856c"
      },
      "execution_count": 1,
      "outputs": [
        {
          "output_type": "stream",
          "name": "stdout",
          "text": [
            "Cloning into 'master'...\n",
            "remote: Enumerating objects: 101, done.\u001b[K\n",
            "remote: Counting objects: 100% (101/101), done.\u001b[K\n",
            "remote: Compressing objects: 100% (98/98), done.\u001b[K\n",
            "remote: Total 101 (delta 35), reused 0 (delta 0), pack-reused 0\u001b[K\n",
            "Receiving objects: 100% (101/101), 17.61 MiB | 15.94 MiB/s, done.\n",
            "Resolving deltas: 100% (35/35), done.\n"
          ]
        }
      ]
    },
    {
      "cell_type": "code",
      "execution_count": 2,
      "metadata": {
        "collapsed": true,
        "jupyter": {
          "outputs_hidden": true
        },
        "id": "w5vCRIYG3Uuy"
      },
      "outputs": [],
      "source": [
        "import pandas as pd\n",
        "import matplotlib.pyplot as plt"
      ]
    },
    {
      "cell_type": "markdown",
      "metadata": {
        "id": "JCzSVY0-3Uu7"
      },
      "source": [
        "В файле `data/weather.csv` находит архив погоды в г. Санкт-Петербург с 1 января 2008 года по 31 декабря 2016 года. Файл состоит из двух столбцов - дата (**Day**) и средняя дневная температура в этот день (**t**). Прочитать данные в `pandas` можно с помощью кода:"
      ]
    },
    {
      "cell_type": "code",
      "execution_count": 3,
      "metadata": {
        "id": "o222kh5v3Uu_"
      },
      "outputs": [],
      "source": [
        "df = pd.read_csv('/content/master/data/weather.csv', encoding='utf-8', index_col=False, parse_dates=[0])"
      ]
    },
    {
      "cell_type": "code",
      "execution_count": 4,
      "metadata": {
        "colab": {
          "base_uri": "https://localhost:8080/",
          "height": 206
        },
        "id": "5GhURza43UvB",
        "outputId": "b55dd33b-f842-4724-e9a1-89c7c3610b3d"
      },
      "outputs": [
        {
          "output_type": "execute_result",
          "data": {
            "text/plain": [
              "         Day   t\n",
              "0 2008-01-01   0\n",
              "1 2008-01-02  -5\n",
              "2 2008-01-03 -11\n",
              "3 2008-01-04 -11\n",
              "4 2008-01-05 -12"
            ],
            "text/html": [
              "\n",
              "  <div id=\"df-4d7d226e-c9d8-47c0-871c-b8944641374a\">\n",
              "    <div class=\"colab-df-container\">\n",
              "      <div>\n",
              "<style scoped>\n",
              "    .dataframe tbody tr th:only-of-type {\n",
              "        vertical-align: middle;\n",
              "    }\n",
              "\n",
              "    .dataframe tbody tr th {\n",
              "        vertical-align: top;\n",
              "    }\n",
              "\n",
              "    .dataframe thead th {\n",
              "        text-align: right;\n",
              "    }\n",
              "</style>\n",
              "<table border=\"1\" class=\"dataframe\">\n",
              "  <thead>\n",
              "    <tr style=\"text-align: right;\">\n",
              "      <th></th>\n",
              "      <th>Day</th>\n",
              "      <th>t</th>\n",
              "    </tr>\n",
              "  </thead>\n",
              "  <tbody>\n",
              "    <tr>\n",
              "      <th>0</th>\n",
              "      <td>2008-01-01</td>\n",
              "      <td>0</td>\n",
              "    </tr>\n",
              "    <tr>\n",
              "      <th>1</th>\n",
              "      <td>2008-01-02</td>\n",
              "      <td>-5</td>\n",
              "    </tr>\n",
              "    <tr>\n",
              "      <th>2</th>\n",
              "      <td>2008-01-03</td>\n",
              "      <td>-11</td>\n",
              "    </tr>\n",
              "    <tr>\n",
              "      <th>3</th>\n",
              "      <td>2008-01-04</td>\n",
              "      <td>-11</td>\n",
              "    </tr>\n",
              "    <tr>\n",
              "      <th>4</th>\n",
              "      <td>2008-01-05</td>\n",
              "      <td>-12</td>\n",
              "    </tr>\n",
              "  </tbody>\n",
              "</table>\n",
              "</div>\n",
              "      <button class=\"colab-df-convert\" onclick=\"convertToInteractive('df-4d7d226e-c9d8-47c0-871c-b8944641374a')\"\n",
              "              title=\"Convert this dataframe to an interactive table.\"\n",
              "              style=\"display:none;\">\n",
              "        \n",
              "  <svg xmlns=\"http://www.w3.org/2000/svg\" height=\"24px\"viewBox=\"0 0 24 24\"\n",
              "       width=\"24px\">\n",
              "    <path d=\"M0 0h24v24H0V0z\" fill=\"none\"/>\n",
              "    <path d=\"M18.56 5.44l.94 2.06.94-2.06 2.06-.94-2.06-.94-.94-2.06-.94 2.06-2.06.94zm-11 1L8.5 8.5l.94-2.06 2.06-.94-2.06-.94L8.5 2.5l-.94 2.06-2.06.94zm10 10l.94 2.06.94-2.06 2.06-.94-2.06-.94-.94-2.06-.94 2.06-2.06.94z\"/><path d=\"M17.41 7.96l-1.37-1.37c-.4-.4-.92-.59-1.43-.59-.52 0-1.04.2-1.43.59L10.3 9.45l-7.72 7.72c-.78.78-.78 2.05 0 2.83L4 21.41c.39.39.9.59 1.41.59.51 0 1.02-.2 1.41-.59l7.78-7.78 2.81-2.81c.8-.78.8-2.07 0-2.86zM5.41 20L4 18.59l7.72-7.72 1.47 1.35L5.41 20z\"/>\n",
              "  </svg>\n",
              "      </button>\n",
              "      \n",
              "  <style>\n",
              "    .colab-df-container {\n",
              "      display:flex;\n",
              "      flex-wrap:wrap;\n",
              "      gap: 12px;\n",
              "    }\n",
              "\n",
              "    .colab-df-convert {\n",
              "      background-color: #E8F0FE;\n",
              "      border: none;\n",
              "      border-radius: 50%;\n",
              "      cursor: pointer;\n",
              "      display: none;\n",
              "      fill: #1967D2;\n",
              "      height: 32px;\n",
              "      padding: 0 0 0 0;\n",
              "      width: 32px;\n",
              "    }\n",
              "\n",
              "    .colab-df-convert:hover {\n",
              "      background-color: #E2EBFA;\n",
              "      box-shadow: 0px 1px 2px rgba(60, 64, 67, 0.3), 0px 1px 3px 1px rgba(60, 64, 67, 0.15);\n",
              "      fill: #174EA6;\n",
              "    }\n",
              "\n",
              "    [theme=dark] .colab-df-convert {\n",
              "      background-color: #3B4455;\n",
              "      fill: #D2E3FC;\n",
              "    }\n",
              "\n",
              "    [theme=dark] .colab-df-convert:hover {\n",
              "      background-color: #434B5C;\n",
              "      box-shadow: 0px 1px 3px 1px rgba(0, 0, 0, 0.15);\n",
              "      filter: drop-shadow(0px 1px 2px rgba(0, 0, 0, 0.3));\n",
              "      fill: #FFFFFF;\n",
              "    }\n",
              "  </style>\n",
              "\n",
              "      <script>\n",
              "        const buttonEl =\n",
              "          document.querySelector('#df-4d7d226e-c9d8-47c0-871c-b8944641374a button.colab-df-convert');\n",
              "        buttonEl.style.display =\n",
              "          google.colab.kernel.accessAllowed ? 'block' : 'none';\n",
              "\n",
              "        async function convertToInteractive(key) {\n",
              "          const element = document.querySelector('#df-4d7d226e-c9d8-47c0-871c-b8944641374a');\n",
              "          const dataTable =\n",
              "            await google.colab.kernel.invokeFunction('convertToInteractive',\n",
              "                                                     [key], {});\n",
              "          if (!dataTable) return;\n",
              "\n",
              "          const docLinkHtml = 'Like what you see? Visit the ' +\n",
              "            '<a target=\"_blank\" href=https://colab.research.google.com/notebooks/data_table.ipynb>data table notebook</a>'\n",
              "            + ' to learn more about interactive tables.';\n",
              "          element.innerHTML = '';\n",
              "          dataTable['output_type'] = 'display_data';\n",
              "          await google.colab.output.renderOutput(dataTable, element);\n",
              "          const docLink = document.createElement('div');\n",
              "          docLink.innerHTML = docLinkHtml;\n",
              "          element.appendChild(docLink);\n",
              "        }\n",
              "      </script>\n",
              "    </div>\n",
              "  </div>\n",
              "  "
            ]
          },
          "metadata": {},
          "execution_count": 4
        }
      ],
      "source": [
        "df.head(5)"
      ]
    },
    {
      "cell_type": "markdown",
      "metadata": {
        "id": "gXPU0go13UvD"
      },
      "source": [
        "С помощью `Pandas` решите следующие задачи"
      ]
    },
    {
      "cell_type": "markdown",
      "metadata": {
        "id": "BoZbCLn93UvF"
      },
      "source": [
        "**1.** Определите самый холодный год, в котором среднеяя температура была минимальная и самый теплый год. "
      ]
    },
    {
      "cell_type": "code",
      "source": [
        "# ваш код\n",
        "\n",
        "df_change = df.copy()\n",
        "df_change['Day'] = df['Day'].apply(lambda x: x.year)\n",
        "df_change.rename(columns={'Day': 'Year'}, inplace = True)\n",
        "\n",
        "df_change = df_change.groupby(['Year'], as_index=False).apply(lambda x: x['t'].sum()/len(x))\n",
        "\n",
        "df_change.columns.values[1] = 'average_temperature'\n",
        "\n",
        "answer_min = df_change.loc[df_change['average_temperature'].idxmin()]\n",
        "answer_max = df_change.loc[df_change['average_temperature'].idxmax()]\n",
        "\n",
        "print(f'Самый холодный год: {int(answer_min[0])}, средняя температура: {answer_min[1]}')\n",
        "\n",
        "print(f'Самый тёплый год: {int(answer_max[0])}, средняя температура: {answer_max[1]}')"
      ],
      "metadata": {
        "colab": {
          "base_uri": "https://localhost:8080/"
        },
        "id": "5-QvmP6s7tj1",
        "outputId": "ae0a86f1-4287-438e-c719-ed79f36c7300"
      },
      "execution_count": 86,
      "outputs": [
        {
          "output_type": "stream",
          "name": "stdout",
          "text": [
            "Самый холодный год: 2012, средняя температура: 6.980821917808219\n",
            "Самый тёплый год: 2015, средняя температура: 9.07945205479452\n"
          ]
        }
      ]
    },
    {
      "cell_type": "markdown",
      "metadata": {
        "id": "a3vqx2-23UvH"
      },
      "source": [
        "**2.** Определите год, где в январе было наибольшее число дней с положительной температурой ($\\text{t} \\ge 0$)."
      ]
    },
    {
      "cell_type": "code",
      "execution_count": 87,
      "metadata": {
        "collapsed": true,
        "jupyter": {
          "outputs_hidden": true
        },
        "colab": {
          "base_uri": "https://localhost:8080/"
        },
        "id": "m34TzJ7f3UvI",
        "outputId": "2a8c4543-879d-4438-9a9e-334a0de631cf"
      },
      "outputs": [
        {
          "output_type": "stream",
          "name": "stdout",
          "text": [
            "Наибольшее число дней (19) с положительной температурой было в 2008 году\n"
          ]
        }
      ],
      "source": [
        "# ваш код\n",
        "\n",
        "df_change = df.copy()\n",
        "\n",
        "df_change['Year'] = df['Day'].apply(lambda x: x.year)\n",
        "df_change['Month'] = df['Day'].apply(lambda x: x.month)\n",
        "df_change['Day'] = df['Day'].apply(lambda x: x.day)\n",
        "\n",
        "df_change = df_change[['t', 'Day', 'Month', 'Year']]\n",
        "\n",
        "df_change = df_change[(df_change['Month'] == 1) & (df_change['t'] >= 0)][['Year', 'Day']].groupby(['Year'], as_index=False).count()\n",
        "\n",
        "answer = df_change.loc[df_change['Day'].idxmax()]\n",
        "\n",
        "print(f'Наибольшее число дней ({answer[1]}) с положительной температурой было в {answer[0]} году')"
      ]
    },
    {
      "cell_type": "markdown",
      "metadata": {
        "id": "ZpgcqKzt3UvJ"
      },
      "source": [
        "**3.** В каком году было самое холодное лето (по средней температуре)"
      ]
    },
    {
      "cell_type": "code",
      "execution_count": 92,
      "metadata": {
        "collapsed": true,
        "jupyter": {
          "outputs_hidden": true
        },
        "colab": {
          "base_uri": "https://localhost:8080/"
        },
        "id": "b3L2xS993UvK",
        "outputId": "8c7ea7ac-56f1-430c-f5e0-495465edc01d"
      },
      "outputs": [
        {
          "output_type": "stream",
          "name": "stdout",
          "text": [
            "Самое холодное лето было в 2008 году. Средняя температура: 18.119565217391305\n"
          ]
        }
      ],
      "source": [
        "# ваш код\n",
        "\n",
        "df_change = df.copy()\n",
        "\n",
        "df_change['Year'] = df['Day'].apply(lambda x: x.year)\n",
        "df_change['Month'] = df['Day'].apply(lambda x: x.month)\n",
        "df_change['Day'] = df['Day'].apply(lambda x: x.day)\n",
        "\n",
        "df_change = df_change[['t', 'Day', 'Month', 'Year']]\n",
        "\n",
        "df_change = df_change[(df_change['Month'] >= 6) & \\\n",
        "                      (df_change['Month'] <= 8)]\\\n",
        "                      [['Year', 't']].groupby(['Year'], as_index=False).apply(lambda x: x['t'].sum()/len(x))\n",
        "\n",
        "df_change.columns.values[1] = 't'\n",
        "\n",
        "answer = df_change.loc[df_change['t'].idxmin()]\n",
        "\n",
        "print(f'Самое холодное лето было в {int(answer[0])} году. Средняя температура: {answer[1]}')"
      ]
    },
    {
      "cell_type": "markdown",
      "metadata": {
        "id": "YOx_JuVS3UvL"
      },
      "source": [
        "**4.** Найдите день с самой большим перепадом температуры, если сравнивать со следующим днем. "
      ]
    },
    {
      "cell_type": "code",
      "execution_count": 17,
      "metadata": {
        "collapsed": true,
        "jupyter": {
          "outputs_hidden": true
        },
        "colab": {
          "base_uri": "https://localhost:8080/"
        },
        "id": "wnOYUN_R3UvM",
        "outputId": "a5e7f3e0-bca3-42c2-b575-d6d0563650fa"
      },
      "outputs": [
        {
          "output_type": "stream",
          "name": "stdout",
          "text": [
            "Самый большой перепад составлял 15.0 градусов\n",
            "День с самым большим перепадом - 2014-05-26\n"
          ]
        }
      ],
      "source": [
        "# ваш код\n",
        "\n",
        "df_change = df.copy()\n",
        "\n",
        "df_change['diff_t'] = df['t'].diff().shift(-1).apply(abs)\n",
        "\n",
        "answer = df_change.loc[df_change['diff_t'].idxmax()]\n",
        "\n",
        "print(f\"Самый большой перепад составлял {answer[2]} градусов\")\n",
        "print(f\"День с самым большим перепадом - {answer[0].date()}\")"
      ]
    },
    {
      "cell_type": "markdown",
      "metadata": {
        "id": "CktyRk973UvN"
      },
      "source": [
        "**5.** Постройте график среднегодовых температур (по оси $x$ - год, по оси $y$ - средняя температура в этот год)."
      ]
    },
    {
      "cell_type": "code",
      "execution_count": 7,
      "metadata": {
        "collapsed": true,
        "jupyter": {
          "outputs_hidden": true
        },
        "colab": {
          "base_uri": "https://localhost:8080/",
          "height": 296
        },
        "id": "MbGZh2hS3UvN",
        "outputId": "9eba72ec-e538-4d01-cd2f-d748d389579b"
      },
      "outputs": [
        {
          "output_type": "execute_result",
          "data": {
            "text/plain": [
              "<matplotlib.axes._subplots.AxesSubplot at 0x7f6c9fcd82d0>"
            ]
          },
          "metadata": {},
          "execution_count": 7
        },
        {
          "output_type": "display_data",
          "data": {
            "text/plain": [
              "<Figure size 432x288 with 1 Axes>"
            ],
            "image/png": "[encoded data removed]"
          },
          "metadata": {
            "needs_background": "light"
          }
        }
      ],
      "source": [
        "# ваш код\n",
        "\n",
        "df_change = df.copy()\n",
        "\n",
        "df_change['Year'] = df['Day'].apply(lambda x: x.year)\n",
        "\n",
        "df_change = df_change[['Year', 't']]\n",
        "\n",
        "df_change = df_change[['Year', 't']].groupby(['Year']).apply(lambda x: x['t'].sum()/len(x))\n",
        "\n",
        "df_change.plot()"
      ]
    }
  ],
  "metadata": {
    "kernelspec": {
      "display_name": "Python 3",
      "language": "python",
      "name": "python3"
    },
    "language_info": {
      "codemirror_mode": {
        "name": "ipython",
        "version": 3
      },
      "file_extension": ".py",
      "mimetype": "text/x-python",
      "name": "python",
      "nbconvert_exporter": "python",
      "pygments_lexer": "ipython3",
      "version": "3.6.9"
    },
    "colab": {
      "provenance": []
    }
  },
  "nbformat": 4,
  "nbformat_minor": 0
}