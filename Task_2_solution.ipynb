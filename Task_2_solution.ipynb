{
  "cells": [
    {
      "cell_type": "code",
      "execution_count": null,
      "metadata": {
        "id": "MdaRNp8C8sWt"
      },
      "outputs": [],
      "source": [
        "import numpy as np\n",
        "import scipy as sp\n",
        "import matplotlib.pyplot as plt\n",
        "import seaborn as sns\n",
        "\n",
        "%matplotlib inline"
      ]
    },
    {
      "cell_type": "markdown",
      "metadata": {
        "id": "VgLvEhCF8sWx"
      },
      "source": [
        "# 2. Работа с массивами NumPy"
      ]
    },
    {
      "cell_type": "markdown",
      "metadata": {
        "id": "ZxtebDnd8sW2"
      },
      "source": [
        "**N. Все упражнения ниже нужно делать без использования циклов Python**\n",
        "\n",
        "**2.1.** Cоздать вектор\n",
        "\n",
        "$$(2, \\frac{2^2}{2}, \\ldots, \\frac{2^{20}}{20})$$\n",
        "\n",
        "Можно использовать функции [np.arange()](http://docs.scipy.org/doc/numpy/reference/generated/numpy.arange.html), [np.ones()](http://docs.scipy.org/doc/numpy/reference/generated/numpy.ones.html)"
      ]
    },
    {
      "cell_type": "code",
      "source": [
        "## your code\n",
        "\n",
        "np_array_2 = np.ones(20) * 2\n",
        "np_arange = np.arange(1, 21)\n",
        "\n",
        "answer = np_array_2 ** np_arange / np_arange\n",
        "\n",
        "answer"
      ],
      "metadata": {
        "colab": {
          "base_uri": "https://localhost:8080/"
        },
        "id": "efXU4wsaGYoR",
        "outputId": "cef3a0b4-1224-4b39-d009-02fb621b0c37"
      },
      "execution_count": null,
      "outputs": [
        {
          "output_type": "execute_result",
          "data": {
            "text/plain": [
              "array([2.00000000e+00, 2.00000000e+00, 2.66666667e+00, 4.00000000e+00,\n",
              "       6.40000000e+00, 1.06666667e+01, 1.82857143e+01, 3.20000000e+01,\n",
              "       5.68888889e+01, 1.02400000e+02, 1.86181818e+02, 3.41333333e+02,\n",
              "       6.30153846e+02, 1.17028571e+03, 2.18453333e+03, 4.09600000e+03,\n",
              "       7.71011765e+03, 1.45635556e+04, 2.75941053e+04, 5.24288000e+04])"
            ]
          },
          "metadata": {},
          "execution_count": 5
        }
      ]
    },
    {
      "cell_type": "markdown",
      "metadata": {
        "id": "hpphZWF48sW6"
      },
      "source": [
        "**2.2.** Посчитать:\n",
        "\n",
        "$$\\sum\\limits_{i=0}^{5}{0.1^{3i}0.2^{4i}}$$\n"
      ]
    },
    {
      "cell_type": "code",
      "execution_count": null,
      "metadata": {
        "colab": {
          "base_uri": "https://localhost:8080/"
        },
        "id": "adF51p1v8sW7",
        "outputId": "cb6a54db-5e32-4638-cc05-d814eeb28cf8"
      },
      "outputs": [
        {
          "output_type": "stream",
          "name": "stdout",
          "text": [
            "Сумма равна: 1.0000001000000105e-07\n"
          ]
        }
      ],
      "source": [
        "## your code\n",
        "\n",
        "arr_01 = np.ones(5) * 0.1\n",
        "arr_02 = np.ones(5) * 0.1\n",
        "\n",
        "np_arr_3 = np.arange(1, 6) * 3\n",
        "np_arr_4 = np.arange(1, 6) * 4\n",
        "\n",
        "answer = sum((arr_01 ** np_arr_3) * (arr_02 ** np_arr_4))\n",
        "\n",
        "print(f'Сумма равна: {answer}')"
      ]
    },
    {
      "cell_type": "markdown",
      "metadata": {
        "id": "oYo47CJQ8sW8"
      },
      "source": [
        "**2.3.** Создать нулевую матрицe $8 \\times 8$, и заполнить её единицами в шахматном порядке."
      ]
    },
    {
      "cell_type": "code",
      "execution_count": null,
      "metadata": {
        "colab": {
          "base_uri": "https://localhost:8080/"
        },
        "id": "OdDNbdRy8sW-",
        "outputId": "d3aff2e3-04f0-4f77-cbd4-327c0a6fcd86"
      },
      "outputs": [
        {
          "output_type": "execute_result",
          "data": {
            "text/plain": [
              "array([[0., 1., 0., 1., 0., 1., 0., 1.],\n",
              "       [1., 0., 1., 0., 1., 0., 1., 0.],\n",
              "       [0., 1., 0., 1., 0., 1., 0., 1.],\n",
              "       [1., 0., 1., 0., 1., 0., 1., 0.],\n",
              "       [0., 1., 0., 1., 0., 1., 0., 1.],\n",
              "       [1., 0., 1., 0., 1., 0., 1., 0.],\n",
              "       [0., 1., 0., 1., 0., 1., 0., 1.],\n",
              "       [1., 0., 1., 0., 1., 0., 1., 0.]])"
            ]
          },
          "metadata": {},
          "execution_count": 7
        }
      ],
      "source": [
        "## your code\n",
        "\n",
        "arr_ones = np.ones((8, 8))\n",
        "np_arr = np.arange(1, 9) % 2\n",
        "\n",
        "answer = ((arr_ones * np_arr).T + np_arr) % 2\n",
        "answer"
      ]
    },
    {
      "cell_type": "markdown",
      "metadata": {
        "id": "kqjnM5TL8sW_"
      },
      "source": [
        "**2.4.** Есть 5 точек в декартовой системе координат (в виде матрицы $X$ размерностью $5 \\times 2$), сконвертируйте эти точки в полярную систему координат."
      ]
    },
    {
      "cell_type": "code",
      "execution_count": null,
      "metadata": {
        "colab": {
          "base_uri": "https://localhost:8080/"
        },
        "id": "8VPFVv798sXB",
        "outputId": "e35b612e-40b3-4673-bfec-6cdb29d8f21e"
      },
      "outputs": [
        {
          "output_type": "execute_result",
          "data": {
            "text/plain": [
              "(array([0.44582705, 0.49554218, 0.58471257, 1.12040065, 0.70085002]),\n",
              " array([1.7058401 , 4.25404467, 1.45174331, 1.72409468, 3.51637326]))"
            ]
          },
          "metadata": {},
          "execution_count": 8
        }
      ],
      "source": [
        "X = np.random.random((5, 2))\n",
        "\n",
        "## your code\n",
        "\n",
        "def to_polar(X):\n",
        "    rho = (X[0] ** 2 + X[1] ** 2) ** 0.5\n",
        "    theta = X[1] / X[0]\n",
        "    return rho, theta\n",
        "\n",
        "to_polar(X.T)\n",
        "\n"
      ]
    },
    {
      "cell_type": "markdown",
      "metadata": {
        "id": "E30QMbXv8sXD"
      },
      "source": [
        "**2.5.** Найдите индексы максимального элемента в случайной матрице $10 \\times 10$.\n",
        "\n",
        "Cм. [np.argmax()](http://docs.scipy.org/doc/numpy/reference/generated/numpy.argmax.html)."
      ]
    },
    {
      "cell_type": "code",
      "execution_count": null,
      "metadata": {
        "colab": {
          "base_uri": "https://localhost:8080/"
        },
        "id": "pqdGusTZ8sXE",
        "outputId": "259ed4b7-a84b-4b99-fa55-4689fce3e244"
      },
      "outputs": [
        {
          "output_type": "stream",
          "name": "stdout",
          "text": [
            "Максимальный элемент находится на пересечении строки 0 и столбца 8\n"
          ]
        }
      ],
      "source": [
        "X = np.random.random((10, 10))\n",
        "\n",
        "## your code\n",
        "def find_indexes(X):\n",
        "    max_el = np.argmax(X)\n",
        "    x, y = max_el // 10, max_el % 10\n",
        "    return x, y\n",
        "\n",
        "x, y = find_indexes(X)\n",
        "print(f'Максимальный элемент находится на пересечении строки {x} и столбца {y}')\n",
        "# отметим, что нумерация столбцов и строк происходит с нуля"
      ]
    },
    {
      "cell_type": "markdown",
      "metadata": {
        "id": "JXlaGmdo8sXF"
      },
      "source": [
        "**2.6.** Есть 10 точек ($X$) и ещё одна ($y$). Найти в $X$ ближайшую к $y$ точку."
      ]
    },
    {
      "cell_type": "code",
      "execution_count": null,
      "metadata": {
        "colab": {
          "base_uri": "https://localhost:8080/"
        },
        "id": "iKgR_08x8sXF",
        "outputId": "b2c651e5-a586-4aac-f53d-c98030bd98f9"
      },
      "outputs": [
        {
          "output_type": "stream",
          "name": "stdout",
          "text": [
            "[[0.86033396 0.37321826]\n",
            " [0.12026849 0.16715378]\n",
            " [0.99826688 0.91245245]\n",
            " [0.02266544 0.3537549 ]\n",
            " [0.83219504 0.36827288]\n",
            " [0.35587439 0.28475045]\n",
            " [0.55392492 0.54558362]\n",
            " [0.24814944 0.39371919]\n",
            " [0.34666685 0.9220949 ]\n",
            " [0.37609017 0.83747703]]\n",
            "[[0.29614753 0.99999515]]\n",
            "\n",
            "Ближайшая точка к [[0.29614753 0.99999515]] - это [0.12026849 0.16715378] с индексом 1\n"
          ]
        }
      ],
      "source": [
        "from inspect import findsource\n",
        "X = np.random.random((10, 2))\n",
        "y = np.random.random((1, 2))\n",
        "\n",
        "print(X)\n",
        "print(y)\n",
        "\n",
        "## your code\n",
        "\n",
        "def find_nearest(X, y):\n",
        "    p = sum(((X - y)**2).T)**0.5\n",
        "    index = np.argmax(p)\n",
        "    return X[index], index\n",
        "\n",
        "point, index = find_nearest(X, y)\n",
        "\n",
        "print(f'\\nБлижайшая точка к {y} - это {point} с индексом {index}')"
      ]
    },
    {
      "cell_type": "markdown",
      "metadata": {
        "id": "c2_B52HR8sXG"
      },
      "source": [
        "**2.7.** Дана функция:\n",
        "\n",
        "$$\n",
        " \\begin{cases}\n",
        "    x^2 + 2x + 6, & x < 0  \\\\\n",
        "    x + 6, & 0 \\le x \\le 2 \\\\\n",
        "    x^2 + 4x - 4, & x \\ge 2\n",
        " \\end{cases}\n",
        "$$\n",
        "\n",
        "Постройте массив из её значений на  $-3 \\le x \\le 3$."
      ]
    },
    {
      "cell_type": "code",
      "execution_count": null,
      "metadata": {
        "id": "4cpBuJV28sXH",
        "colab": {
          "base_uri": "https://localhost:8080/"
        },
        "outputId": "b123571c-6596-4b58-c7fc-f65c68d12099"
      },
      "outputs": [
        {
          "output_type": "execute_result",
          "data": {
            "text/plain": [
              "array([ 9.  ,  8.61,  8.24,  7.89,  7.56,  7.25,  6.96,  6.69,  6.44,\n",
              "        6.21,  6.  ,  5.81,  5.64,  5.49,  5.36,  5.25,  5.16,  5.09,\n",
              "        5.04,  5.01,  5.  ,  5.01,  5.04,  5.09,  5.16,  5.25,  5.36,\n",
              "        5.49,  5.64,  5.81,  6.  ,  6.1 ,  6.2 ,  6.3 ,  6.4 ,  6.5 ,\n",
              "        6.6 ,  6.7 ,  6.8 ,  6.9 ,  7.  ,  7.1 ,  7.2 ,  7.3 ,  7.4 ,\n",
              "        7.5 ,  7.6 ,  7.7 ,  7.8 ,  7.9 ,  8.  ,  8.81,  9.64, 10.49,\n",
              "       11.36, 12.25, 13.16, 14.09, 15.04, 16.01])"
            ]
          },
          "metadata": {},
          "execution_count": 19
        }
      ],
      "source": [
        "## your code\n",
        "np_arr = np.arange(-3, 3, 0.1)\n",
        "\n",
        "def func(x):\n",
        "    if x < 0:\n",
        "        return x**2 + 2*x + 6\n",
        "    elif x <= 2:\n",
        "        return x + 6\n",
        "    else:\n",
        "        return x**2 + 4*x - 4\n",
        "\n",
        "\n",
        "vect_func = np.vectorize(func)\n",
        "\n",
        "answer = vect_func(np_arr)\n",
        "\n",
        "answer"
      ]
    },
    {
      "cell_type": "markdown",
      "metadata": {
        "id": "0XzjCIkN8sXI"
      },
      "source": [
        "**2.8.** Из каждого элемента матрицы вычесть среднее арифметическое от всех элементов в соответствующей строке (после чего среднее значение каждой строки должно равняться нулю).\n",
        "\n",
        "Cм. [np.mean()](http://docs.scipy.org/doc/numpy/reference/generated/numpy.mean.html)."
      ]
    },
    {
      "cell_type": "code",
      "execution_count": 23,
      "metadata": {
        "id": "QUH2ivKU8sXI",
        "colab": {
          "base_uri": "https://localhost:8080/"
        },
        "outputId": "c72fa59c-f6b9-42fe-d8ea-055d7c1987dd"
      },
      "outputs": [
        {
          "output_type": "stream",
          "name": "stdout",
          "text": [
            "[ 1.66533454e-17 -1.11022302e-17  2.22044605e-17 -1.11022302e-17\n",
            " -1.11022302e-17  1.11022302e-17  2.22044605e-17 -2.22044605e-17\n",
            " -1.11022302e-17  2.22044605e-17]\n"
          ]
        }
      ],
      "source": [
        "X = np.random.random((10, 10))\n",
        "\n",
        "# print(X)\n",
        "\n",
        "## your code\n",
        "m = np.expand_dims(np.mean(X, axis=1), 1)\n",
        "# print(f'Среднее: {m}')\n",
        "print(np.mean(X - m, axis=1))"
      ]
    },
    {
      "cell_type": "markdown",
      "metadata": {
        "id": "g598dArs8sXJ"
      },
      "source": [
        "**2.9.** Есть массив из 1000 чисел, полученных из генератора случайных чисел, имеющий нормальное распределение. Посчитайте выборочное среднее и выборочную дисперсию. "
      ]
    },
    {
      "cell_type": "code",
      "execution_count": 24,
      "metadata": {
        "id": "sqI0P2xF8sXK",
        "colab": {
          "base_uri": "https://localhost:8080/"
        },
        "outputId": "63d1e90b-ea77-4b38-cc93-0957bbb4c3e5"
      },
      "outputs": [
        {
          "output_type": "stream",
          "name": "stdout",
          "text": [
            "Выборочная дисперсия: 3.9844987633297113\n",
            "Выборочное среднее: 4.945852540344217\n"
          ]
        }
      ],
      "source": [
        "X = np.random.normal(loc=5, scale=2., size=1000)\n",
        "variance = np.var(X)\n",
        "m = np.mean(X)\n",
        "print(f'Выборочная дисперсия: {variance}\\nВыборочное среднее: {m}')"
      ]
    },
    {
      "cell_type": "markdown",
      "source": [
        " Надо вспомнить, что это, чтобы проверить"
      ],
      "metadata": {
        "id": "mcSgp4QtyF-D"
      }
    },
    {
      "cell_type": "markdown",
      "metadata": {
        "id": "4Y7dVGEG8sXK"
      },
      "source": [
        "**2.10.** Создать матрицу (NB. БЕЗ ЦИКЛОВ И ИЗМЕНЕНИЯ ОТДЕЛЬНЫХ ЭЛЕМЕНТОВ):\n",
        "\n",
        "$$\n",
        "\\begin{pmatrix}\n",
        "0 & 1 & 2 & 3 & 4 \\\\\n",
        "1 & 2 & 3 & 4 & 0 \\\\\n",
        "2 & 3 & 4 & 0 & 1 \\\\\n",
        "3 & 4 & 0 & 1 & 2 \\\\\n",
        "4 & 0 & 1 & 2 & 3\n",
        "\\end{pmatrix}\n",
        "$$"
      ]
    },
    {
      "cell_type": "code",
      "execution_count": 25,
      "metadata": {
        "id": "sLuguXlZ8sXL",
        "colab": {
          "base_uri": "https://localhost:8080/"
        },
        "outputId": "26eb14ac-6f60-47b5-ed04-5fa7ca86f7ec"
      },
      "outputs": [
        {
          "output_type": "execute_result",
          "data": {
            "text/plain": [
              "array([[0, 1, 2, 3, 4],\n",
              "       [1, 2, 3, 4, 0],\n",
              "       [2, 3, 4, 0, 1],\n",
              "       [3, 4, 0, 1, 2],\n",
              "       [4, 0, 1, 2, 3]])"
            ]
          },
          "metadata": {},
          "execution_count": 25
        }
      ],
      "source": [
        "## your code\n",
        "# arr_zeros = np.zeros((5, 5))\n",
        "arr = (np.reshape(np.arange(25), (5, 5)) + np.reshape(np.arange(5), (5, 1))) % 5\n",
        "\n",
        "arr"
      ]
    },
    {
      "cell_type": "markdown",
      "metadata": {
        "id": "nLB7c5Rm8sXL"
      },
      "source": [
        "**2.11.** Есть следующий алгоритм семплинирования, на вход функции подается вектор из целых положительных чисел и число семплов."
      ]
    },
    {
      "cell_type": "code",
      "execution_count": 29,
      "metadata": {
        "id": "7yjt0ZAx8sXM",
        "outputId": "973b6b9f-fac7-4598-daec-94248eb0297d",
        "colab": {
          "base_uri": "https://localhost:8080/"
        }
      },
      "outputs": [
        {
          "output_type": "execute_result",
          "data": {
            "text/plain": [
              "[0, 0, 0, 3, 0]"
            ]
          },
          "metadata": {},
          "execution_count": 29
        }
      ],
      "source": [
        "def sample(x, c):\n",
        "    assert len(x) > 0\n",
        "    \n",
        "    s = np.sum(x)\n",
        "    res = []\n",
        "    for _ in range(c):\n",
        "        val = s * np.random.random()\n",
        "        cur, idx = 0, 0        \n",
        "        while cur + x[idx] <= val:\n",
        "            cur += x[idx]\n",
        "            idx += 1\n",
        "            \n",
        "        res.append(idx)\n",
        "    return res\n",
        "\n",
        "            \n",
        "sample([50, 3, 1, 7, 20], 5)    "
      ]
    },
    {
      "cell_type": "markdown",
      "metadata": {
        "id": "fIDo8X8i8sXO"
      },
      "source": [
        "Реализуйте данный алгоритм более оптимальным способом, без использования циклов."
      ]
    },
    {
      "cell_type": "code",
      "execution_count": 30,
      "metadata": {
        "id": "NZMpm2EP8sXP",
        "colab": {
          "base_uri": "https://localhost:8080/"
        },
        "outputId": "aabbc738-68a3-4a60-f41b-e9e0d246092b"
      },
      "outputs": [
        {
          "output_type": "stream",
          "name": "stdout",
          "text": [
            "[[50. 53. 54. 61. 81.]\n",
            " [50. 53. 54. 61. 81.]\n",
            " [50. 53. 54. 61. 81.]\n",
            " [50. 53. 54. 61. 81.]\n",
            " [50. 53. 54. 61. 81.]]\n",
            "[[45.73219669]\n",
            " [47.50706786]\n",
            " [70.92571267]\n",
            " [25.44407178]\n",
            " [30.3572889 ]]\n"
          ]
        },
        {
          "output_type": "execute_result",
          "data": {
            "text/plain": [
              "[0, 0, 4, 0, 0]"
            ]
          },
          "metadata": {},
          "execution_count": 30
        }
      ],
      "source": [
        "## your code\n",
        "def sample(x, c):\n",
        "    n = len(x)\n",
        "    assert n > 0\n",
        "    \n",
        "    s = np.sum(x)\n",
        "    vals = s * np.random.rand(c, 1)\n",
        "    # X = np.repeat([x], 4, axis = 0)\n",
        "    sums = np.asarray(x) @ np.triu(np.ones((n, n)))\n",
        "    sums = np.repeat([sums], c, axis = 0)\n",
        "\n",
        "    print(sums)\n",
        "\n",
        "    print(vals)\n",
        "    \n",
        "    return list(np.sum(sums < vals, axis=1))\n",
        "\n",
        "            \n",
        "sample([50, 3, 1, 7, 20], 5)    "
      ]
    }
  ],
  "metadata": {
    "kernelspec": {
      "display_name": "Python 3.10.4 64-bit",
      "language": "python",
      "name": "python3"
    },
    "language_info": {
      "codemirror_mode": {
        "name": "ipython",
        "version": 3
      },
      "file_extension": ".py",
      "mimetype": "text/x-python",
      "name": "python",
      "nbconvert_exporter": "python",
      "pygments_lexer": "ipython3",
      "version": "3.10.4"
    },
    "vscode": {
      "interpreter": {
        "hash": "916dbcbb3f70747c44a77c7bcd40155683ae19c65e1c03b4aa3499c5328201f1"
      }
    },
    "colab": {
      "provenance": [],
      "collapsed_sections": []
    }
  },
  "nbformat": 4,
  "nbformat_minor": 0
}